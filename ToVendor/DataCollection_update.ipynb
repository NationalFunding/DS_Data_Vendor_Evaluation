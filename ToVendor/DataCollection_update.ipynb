{
 "cells": [
  {
   "cell_type": "code",
   "execution_count": 1,
   "id": "c2370218",
   "metadata": {},
   "outputs": [],
   "source": [
    "from datetime import datetime\n",
    "import functools as ft\n",
    "import gc\n",
    "import numpy as np\n",
    "import pickle\n",
    "import pandas as pd\n",
    "import pyodbc\n",
    "import sqlalchemy\n",
    "from sqlalchemy import types, create_engine\n",
    "from dateutil.relativedelta import relativedelta\n",
    "\n",
    "from IPython.core.interactiveshell import InteractiveShell\n",
    "InteractiveShell.ast_node_interactivity = \"all\"\n",
    "pd.set_option('display.max_rows', None) \n",
    "pd.set_option('display.max_columns', None) "
   ]
  },
  {
   "cell_type": "code",
   "execution_count": 2,
   "id": "617e9977",
   "metadata": {},
   "outputs": [],
   "source": [
    "conn_sql = pyodbc.connect('Driver={ODBC Driver 17 for SQL Server};Server=S26;Database=Analytics_WS;Trusted_Connection=yes')\n",
    "\n",
    "driver = '{ODBC Driver 17 for SQL Server}'\n",
    "server = 'S28'\n",
    "db = 'Analytics_WS'\n",
    "engine_sql = create_engine(\"mssql+pyodbc:///?odbc_connect=\" + 'Driver=%s;Server=%s;Database=%s;QuotedID=Yes;AnsiNPW=Yes;Trusted_Connection=yes' % (driver, server, db))"
   ]
  },
  {
   "cell_type": "code",
   "execution_count": 3,
   "id": "25c6d425",
   "metadata": {},
   "outputs": [
    {
     "name": "stdout",
     "output_type": "stream",
     "text": [
      "Initiating login request with your identity provider. A browser window should have opened for you to complete the login. If you can't see it, check existing browser windows, or your OS settings. Press CTRL+C to abort and try again...\n",
      "Going to open: https://nationalfunding.okta.com/app/snowflake/exk8t3c21w5IwCyzl5d7/sso/saml?SAMLRequest=jVLbctowFPwVj%2FqMJdmhAQ0mwyWZMA0JBUNL3xRLEBVZciU5hn59ZRs66UMyfdNlz9k9Z3dwc8xl8MqNFVolAIcIBFxlmgm1T8A6vev0QGAdVYxKrXgCTtyCm%2BHA0lwWZFS6F7Xkv0puXeAbKUvqjwSURhFNrbBE0Zxb4jKyGs0fSBQiQq3lxnk6cC5hVniuF%2BcKAmFVVWEVh9rsYYQQgqgPPaqGfAJvKIqPOQqjnc60vJQc%2FUzvUGCIrmoKj%2FAMd9pkvBkrAc6UHASLc6uxUO1SPuJ9bkGW3KfporN4WqUgGF3mnWhly5ybFTevIuPr5UMryXpNgj13%2B32MQ6t0tZP0wDOdF6XzzUJ%2FgjvOoNR74Zc2myagOAi2XX5N51m60qtbVsbjb9vlfXf%2Bc3Mq5GF7NcWPu%2B%2BbtRzfxl8YykCwuVgc1RbPrC35TNXGOv%2BEoriDow7qpbhHIkzwdYg%2BRz9AMPXGCkVdU3nR2t6p3JXNsKE%2BONqIpEUB%2F%2BqH%2FHjouTiLcNWdVZPTb9ll19BaDWv%2FQBsh0ggxw%2F9cwwC%2BLTqH8NG7MJsutBTZqfYvp%2B59k3CImxfBOrsGSnhOhRwxZri13iwpdTUxnDp%2BDgActqz%2Fpn34Bw%3D%3D&RelayState=60073 to authenticate...\n"
     ]
    }
   ],
   "source": [
    "from sqlalchemy import create_engine\n",
    "from snowflake.sqlalchemy import URL\n",
    "engine = create_engine(URL(\n",
    "    account='idb59911.us-west-2',\n",
    "    user='NLU@NATIONALFUNDING.COM', # change to your username\n",
    "    authenticator = 'externalbrowser',\n",
    "    database='SANDBOX',\n",
    "    role = 'SANDBOX_NLU', # change to your username\n",
    "    schema='NLU', # change to your username\n",
    "))\n",
    "conn = engine.connect()"
   ]
  },
  {
   "cell_type": "markdown",
   "id": "b41aca7b",
   "metadata": {},
   "source": [
    "# Import data"
   ]
  },
  {
   "cell_type": "code",
   "execution_count": 5,
   "id": "45e50b84",
   "metadata": {},
   "outputs": [
    {
     "name": "stdout",
     "output_type": "stream",
     "text": [
      "1.4.4\n"
     ]
    }
   ],
   "source": [
    "print(pd.__version__)"
   ]
  },
  {
   "cell_type": "code",
   "execution_count": 7,
   "id": "cc7ceb46",
   "metadata": {},
   "outputs": [
    {
     "data": {
      "text/plain": [
       "(20000, 8)"
      ]
     },
     "execution_count": 7,
     "metadata": {},
     "output_type": "execute_result"
    }
   ],
   "source": [
    "sql = \"\"\"\n",
    "select unique_id, run_date, company, business_dba, address, city, state, zip\n",
    "from vendor_test_data_internal m\n",
    "\"\"\"\n",
    "df = pd.read_sql(sql, engine)\n",
    "df.shape"
   ]
  },
  {
   "cell_type": "code",
   "execution_count": 8,
   "id": "1356245b",
   "metadata": {},
   "outputs": [
    {
     "data": {
      "text/html": [
       "<div>\n",
       "<style scoped>\n",
       "    .dataframe tbody tr th:only-of-type {\n",
       "        vertical-align: middle;\n",
       "    }\n",
       "\n",
       "    .dataframe tbody tr th {\n",
       "        vertical-align: top;\n",
       "    }\n",
       "\n",
       "    .dataframe thead th {\n",
       "        text-align: right;\n",
       "    }\n",
       "</style>\n",
       "<table border=\"1\" class=\"dataframe\">\n",
       "  <thead>\n",
       "    <tr style=\"text-align: right;\">\n",
       "      <th></th>\n",
       "      <th>unique_id</th>\n",
       "      <th>run_date</th>\n",
       "      <th>company</th>\n",
       "      <th>business_dba</th>\n",
       "      <th>address</th>\n",
       "      <th>city</th>\n",
       "      <th>state</th>\n",
       "      <th>zip</th>\n",
       "    </tr>\n",
       "  </thead>\n",
       "  <tbody>\n",
       "    <tr>\n",
       "      <th>0</th>\n",
       "      <td>09537</td>\n",
       "      <td>2023-07-01</td>\n",
       "      <td>Ack Transportation Corp.</td>\n",
       "      <td>ACK Transportation</td>\n",
       "      <td>1435 Beach Ave</td>\n",
       "      <td>Bronx</td>\n",
       "      <td>NY</td>\n",
       "      <td>10460</td>\n",
       "    </tr>\n",
       "    <tr>\n",
       "      <th>1</th>\n",
       "      <td>11182</td>\n",
       "      <td>2023-06-01</td>\n",
       "      <td>Craftsman Market LLC</td>\n",
       "      <td>Craftsman Cabinets and Furniture</td>\n",
       "      <td>3367 Helton Hartley Pl</td>\n",
       "      <td>Lenoir</td>\n",
       "      <td>NC</td>\n",
       "      <td>28645</td>\n",
       "    </tr>\n",
       "    <tr>\n",
       "      <th>2</th>\n",
       "      <td>09893</td>\n",
       "      <td>2023-07-01</td>\n",
       "      <td>Hilltop Family Restaurant, LLC</td>\n",
       "      <td>Hilltop Family Restaurant</td>\n",
       "      <td>18047 US Highway 41</td>\n",
       "      <td>Lanse</td>\n",
       "      <td>MI</td>\n",
       "      <td>49946</td>\n",
       "    </tr>\n",
       "    <tr>\n",
       "      <th>3</th>\n",
       "      <td>15085</td>\n",
       "      <td>2023-03-01</td>\n",
       "      <td>Tab's Grill &amp; Cantina LLC</td>\n",
       "      <td>Tab's Grill &amp; Cantina LLC</td>\n",
       "      <td>11 Main St</td>\n",
       "      <td>Canton</td>\n",
       "      <td>NY</td>\n",
       "      <td>13617</td>\n",
       "    </tr>\n",
       "    <tr>\n",
       "      <th>4</th>\n",
       "      <td>14193</td>\n",
       "      <td>2022-12-01</td>\n",
       "      <td>Brito's Construction, Inc.</td>\n",
       "      <td>Brito's Construction</td>\n",
       "      <td>9062 Sherlock Cir</td>\n",
       "      <td>Garden Grove</td>\n",
       "      <td>CA</td>\n",
       "      <td>92841</td>\n",
       "    </tr>\n",
       "  </tbody>\n",
       "</table>\n",
       "</div>"
      ],
      "text/plain": [
       "  unique_id    run_date                         company  \\\n",
       "0     09537  2023-07-01        Ack Transportation Corp.   \n",
       "1     11182  2023-06-01            Craftsman Market LLC   \n",
       "2     09893  2023-07-01  Hilltop Family Restaurant, LLC   \n",
       "3     15085  2023-03-01       Tab's Grill & Cantina LLC   \n",
       "4     14193  2022-12-01      Brito's Construction, Inc.   \n",
       "\n",
       "                       business_dba                 address          city  \\\n",
       "0                ACK Transportation          1435 Beach Ave         Bronx   \n",
       "1  Craftsman Cabinets and Furniture  3367 Helton Hartley Pl        Lenoir   \n",
       "2         Hilltop Family Restaurant     18047 US Highway 41         Lanse   \n",
       "3         Tab's Grill & Cantina LLC              11 Main St        Canton   \n",
       "4              Brito's Construction      9062 Sherlock Cir   Garden Grove   \n",
       "\n",
       "  state    zip  \n",
       "0    NY  10460  \n",
       "1    NC  28645  \n",
       "2    MI  49946  \n",
       "3    NY  13617  \n",
       "4    CA  92841  "
      ]
     },
     "execution_count": 8,
     "metadata": {},
     "output_type": "execute_result"
    }
   ],
   "source": [
    "df.head()"
   ]
  },
  {
   "cell_type": "code",
   "execution_count": 9,
   "metadata": {},
   "outputs": [],
   "source": [
    "df.sort_values(by=['unique_id', 'run_date'], inplace=True)\n",
    "df.to_csv('vendor_test_data.csv', index=False, header=True)"
   ]
  },
  {
   "cell_type": "code",
   "execution_count": 13,
   "id": "da07a5fe",
   "metadata": {},
   "outputs": [
    {
     "data": {
      "text/plain": [
       "(20000, 8)"
      ]
     },
     "execution_count": 13,
     "metadata": {},
     "output_type": "execute_result"
    }
   ],
   "source": [
    "df2 = pd.read_csv('vendor_test_data.csv')\n",
    "df2.shape"
   ]
  },
  {
   "cell_type": "code",
   "execution_count": 14,
   "id": "a975839d",
   "metadata": {},
   "outputs": [
    {
     "data": {
      "text/html": [
       "<div>\n",
       "<style scoped>\n",
       "    .dataframe tbody tr th:only-of-type {\n",
       "        vertical-align: middle;\n",
       "    }\n",
       "\n",
       "    .dataframe tbody tr th {\n",
       "        vertical-align: top;\n",
       "    }\n",
       "\n",
       "    .dataframe thead th {\n",
       "        text-align: right;\n",
       "    }\n",
       "</style>\n",
       "<table border=\"1\" class=\"dataframe\">\n",
       "  <thead>\n",
       "    <tr style=\"text-align: right;\">\n",
       "      <th></th>\n",
       "      <th>unique_id</th>\n",
       "      <th>run_date</th>\n",
       "      <th>company</th>\n",
       "      <th>business_dba</th>\n",
       "      <th>address</th>\n",
       "      <th>city</th>\n",
       "      <th>state</th>\n",
       "      <th>zip</th>\n",
       "    </tr>\n",
       "  </thead>\n",
       "  <tbody>\n",
       "    <tr>\n",
       "      <th>0</th>\n",
       "      <td>0</td>\n",
       "      <td>2023-01-01</td>\n",
       "      <td>Loyal Vending &amp; General Services LLC</td>\n",
       "      <td>NaN</td>\n",
       "      <td>12365 SW 255th Ter</td>\n",
       "      <td>Homestead</td>\n",
       "      <td>FL</td>\n",
       "      <td>33032</td>\n",
       "    </tr>\n",
       "    <tr>\n",
       "      <th>1</th>\n",
       "      <td>1</td>\n",
       "      <td>2023-04-01</td>\n",
       "      <td>Trust Multiple Services LLC</td>\n",
       "      <td>NaN</td>\n",
       "      <td>3427 Malaga Way</td>\n",
       "      <td>Naples</td>\n",
       "      <td>FL</td>\n",
       "      <td>34105</td>\n",
       "    </tr>\n",
       "    <tr>\n",
       "      <th>2</th>\n",
       "      <td>2</td>\n",
       "      <td>2022-06-01</td>\n",
       "      <td>Legacy Logistics 365 LLC</td>\n",
       "      <td>NaN</td>\n",
       "      <td>9478 Garfield Cir</td>\n",
       "      <td>Shreveport</td>\n",
       "      <td>LA</td>\n",
       "      <td>71118</td>\n",
       "    </tr>\n",
       "    <tr>\n",
       "      <th>3</th>\n",
       "      <td>3</td>\n",
       "      <td>2022-11-01</td>\n",
       "      <td>Black Girls Build, LLC</td>\n",
       "      <td>NaN</td>\n",
       "      <td>312 Bucknell Cir</td>\n",
       "      <td>Waldorf</td>\n",
       "      <td>MD</td>\n",
       "      <td>20602</td>\n",
       "    </tr>\n",
       "    <tr>\n",
       "      <th>4</th>\n",
       "      <td>4</td>\n",
       "      <td>2021-12-01</td>\n",
       "      <td>Bland Transportation LLC</td>\n",
       "      <td>NaN</td>\n",
       "      <td>2741 N 20th St</td>\n",
       "      <td>Philadelphia</td>\n",
       "      <td>PA</td>\n",
       "      <td>19132</td>\n",
       "    </tr>\n",
       "  </tbody>\n",
       "</table>\n",
       "</div>"
      ],
      "text/plain": [
       "   unique_id    run_date                               company business_dba  \\\n",
       "0          0  2023-01-01  Loyal Vending & General Services LLC          NaN   \n",
       "1          1  2023-04-01           Trust Multiple Services LLC          NaN   \n",
       "2          2  2022-06-01              Legacy Logistics 365 LLC          NaN   \n",
       "3          3  2022-11-01                Black Girls Build, LLC          NaN   \n",
       "4          4  2021-12-01              Bland Transportation LLC          NaN   \n",
       "\n",
       "               address          city state    zip  \n",
       "0  12365 SW 255th Ter      Homestead    FL  33032  \n",
       "1      3427 Malaga Way        Naples    FL  34105  \n",
       "2    9478 Garfield Cir    Shreveport    LA  71118  \n",
       "3    312 Bucknell Cir        Waldorf    MD  20602  \n",
       "4       2741 N 20th St  Philadelphia    PA  19132  "
      ]
     },
     "execution_count": 14,
     "metadata": {},
     "output_type": "execute_result"
    }
   ],
   "source": [
    "df2.head()"
   ]
  },
  {
   "cell_type": "markdown",
   "id": "f623c270",
   "metadata": {},
   "source": [
    "# whole data"
   ]
  },
  {
   "cell_type": "code",
   "execution_count": 44,
   "id": "4e3c631e",
   "metadata": {},
   "outputs": [
    {
     "data": {
      "text/plain": [
       "(20000, 27)"
      ]
     },
     "execution_count": 44,
     "metadata": {},
     "output_type": "execute_result"
    }
   ],
   "source": [
    "sql = \"\"\"\n",
    "select distinct dat.*\n",
    ", customer.business_name\n",
    ", customer.business_start_date\n",
    ", customer.sic_code\n",
    ", customer.state as customer_state\n",
    ", opportunity.nf_salesforce_opportunity_id\n",
    ", customer.customer_key\n",
    "from vendor_test_data_internal dat\n",
    "left join ods.salesforce_nf.sf_nf_credit_review__c as credit_review\n",
    "on dat.best_creditreviewid = credit_review.credit_review__c_id\n",
    "left join datawarehouse.core.opportunity opportunity\n",
    "on credit_review.opportunity__c=opportunity.nf_salesforce_opportunity_id and opportunity.brand='National Funding'\n",
    "left join datawarehouse.core.customer as customer \n",
    "on opportunity.customer_key = customer.customer_key\n",
    "\"\"\"\n",
    "df = pd.read_sql(sql, engine)\n",
    "df.shape"
   ]
  },
  {
   "cell_type": "code",
   "execution_count": 48,
   "id": "cba67334",
   "metadata": {},
   "outputs": [
    {
     "data": {
      "text/plain": [
       "unique_id                       20000\n",
       "prospect_type                   20000\n",
       "accountnum                      19000\n",
       "campaignid                      20000\n",
       "lead_key                        16000\n",
       "leadid                          19000\n",
       "nf_salesforce_opportunity_id     7606\n",
       "customer_key                     7606\n",
       "duns                            20000\n",
       "run_date                        20000\n",
       "mail_date                       20000\n",
       "company                         20000\n",
       "address                         20000\n",
       "city                            20000\n",
       "state                           20000\n",
       "zip                             19999\n",
       "flg_type                        20000\n",
       "flg_type_grp                    20000\n",
       "business_name                    7606\n",
       "business_dba                     7929\n",
       "best_creditreviewid              7606\n",
       "credit_review_ags                7606\n",
       "business_start_date              7606\n",
       "sic_code                         5116\n",
       "customer_state                   7582\n",
       "dtype: int64"
      ]
     },
     "execution_count": 48,
     "metadata": {},
     "output_type": "execute_result"
    }
   ],
   "source": [
    "df.count()"
   ]
  },
  {
   "cell_type": "code",
   "execution_count": 45,
   "metadata": {},
   "outputs": [],
   "source": [
    "df = df[['unique_id', 'prospect_type', 'accountnum', 'campaignid'\n",
    "        , 'lead_key', 'leadid'\n",
    "        , 'nf_salesforce_opportunity_id','customer_key'\n",
    "        , 'duns', 'run_date', 'mail_date', 'company'\n",
    "        , 'address', 'city', 'state', 'zip'\n",
    "        , 'flg_type', 'flg_type_grp'\n",
    "        , 'business_name', 'business_dba'\n",
    "        , 'best_creditreviewid', 'credit_review_ags'\n",
    "        ,  'business_start_date', 'sic_code', 'customer_state']].copy()"
   ]
  },
  {
   "cell_type": "code",
   "execution_count": 46,
   "id": "e4d6bde7",
   "metadata": {},
   "outputs": [],
   "source": [
    "df.sort_values(by=['unique_id', 'run_date'], inplace=True)\n",
    "df.to_csv('vendor_test_data_internal.csv', index=False, header=True)"
   ]
  }
 ],
 "metadata": {
  "kernelspec": {
   "display_name": "Python 3.10.8 ('playground')",
   "language": "python",
   "name": "python3"
  },
  "language_info": {
   "codemirror_mode": {
    "name": "ipython",
    "version": 3
   },
   "file_extension": ".py",
   "mimetype": "text/x-python",
   "name": "python",
   "nbconvert_exporter": "python",
   "pygments_lexer": "ipython3",
   "version": "3.10.8"
  },
  "vscode": {
   "interpreter": {
    "hash": "c1c31ba158fc815313fc66ec9637c7f03ebf810046916949e4003abb05b327f9"
   }
  }
 },
 "nbformat": 4,
 "nbformat_minor": 5
}
