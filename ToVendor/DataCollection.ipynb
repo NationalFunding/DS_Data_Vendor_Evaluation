{
 "cells": [
  {
   "cell_type": "code",
   "execution_count": 1,
   "id": "c2370218",
   "metadata": {},
   "outputs": [],
   "source": [
    "from datetime import datetime\n",
    "import functools as ft\n",
    "import gc\n",
    "import numpy as np\n",
    "import pickle\n",
    "import pandas as pd\n",
    "import pyodbc\n",
    "import sqlalchemy\n",
    "from sqlalchemy import types, create_engine\n",
    "from dateutil.relativedelta import relativedelta\n",
    "\n",
    "from IPython.core.interactiveshell import InteractiveShell\n",
    "InteractiveShell.ast_node_interactivity = \"all\"\n",
    "pd.set_option('display.max_rows', None) \n",
    "pd.set_option('display.max_columns', None) "
   ]
  },
  {
   "cell_type": "code",
   "execution_count": 2,
   "id": "617e9977",
   "metadata": {},
   "outputs": [],
   "source": [
    "conn_sql = pyodbc.connect('Driver={ODBC Driver 17 for SQL Server};Server=S26;Database=Analytics_WS;Trusted_Connection=yes')\n",
    "\n",
    "driver = '{ODBC Driver 17 for SQL Server}'\n",
    "server = 'S28'\n",
    "db = 'Analytics_WS'\n",
    "engine_sql = create_engine(\"mssql+pyodbc:///?odbc_connect=\" + 'Driver=%s;Server=%s;Database=%s;QuotedID=Yes;AnsiNPW=Yes;Trusted_Connection=yes' % (driver, server, db))"
   ]
  },
  {
   "cell_type": "code",
   "execution_count": 3,
   "id": "25c6d425",
   "metadata": {},
   "outputs": [
    {
     "name": "stdout",
     "output_type": "stream",
     "text": [
      "Initiating login request with your identity provider. A browser window should have opened for you to complete the login. If you can't see it, check existing browser windows, or your OS settings. Press CTRL+C to abort and try again...\n",
      "Going to open: https://nationalfunding.okta.com/app/snowflake/exk8t3c21w5IwCyzl5d7/sso/saml?SAMLRequest=jZLNctowFIVfxaOusWwDCWgwGQcmrQeSEnC66E6xBKjIkqsrY8jTV7ahky6S6U4%2F50jfvedO7k6F9I7cgNAqRqEfII%2BrXDOhdjF6yR56I%2BSBpYpRqRWP0ZkDuptOgBayJEll92rNf1ccrOceUkDaixhVRhFNQQBRtOBAbE42yeOSRH5ASqOtzrVE7yyfOygAN9YRXi0MhMPbW1sSjOu69uu%2Br80OR0EQ4GCMnaqRfLnqT66mD%2FQhDgaN3imc%2FEGbnLdlxciaiiNvdaG9F6prymegr50IyLcsW%2FVW3zcZ8pIr%2FEwrqApuNtwcRc5f1ssOCRyTYK%2FD8TgMfVC63kp64Lkuysq6x3y3wlvOsNQ74TqQzmNUHgR7ThajiN3%2FCm5u9vp5K9PV8Ot%2BmS0KuqiTt5yuq%2BN5sHsa9W2QI%2B%2FHNeKoiTgFqHiqmmCtOwqifi8MeuE4iyIyGJL%2BrR8Oxj%2BRN3fBCkVt67yydnsqt1VbrK8PlraQtCzxX37MT4eR7edRWA%2FTenZ%2Bk0N2iwE0bvJG3QiRFsRM%2F7MNE%2FzedBnCJ5dCOl9pKfJzk19B7cchhX7YngjW27ZSwgsqZMKY4QAuLCl1PTOcWn4ZADztfv132qd%2FAA%3D%3D&RelayState=51934 to authenticate...\n"
     ]
    }
   ],
   "source": [
    "from sqlalchemy import create_engine\n",
    "from snowflake.sqlalchemy import URL\n",
    "engine = create_engine(URL(\n",
    "    account='idb59911.us-west-2',\n",
    "    user='NLU@NATIONALFUNDING.COM', # change to your username\n",
    "    authenticator = 'externalbrowser',\n",
    "    database='SANDBOX',\n",
    "    role = 'SANDBOX_NLU', # change to your username\n",
    "    schema='NLU', # change to your username\n",
    "))\n",
    "conn = engine.connect()"
   ]
  },
  {
   "cell_type": "markdown",
   "id": "f5707c99",
   "metadata": {},
   "source": [
    "# Parameters"
   ]
  },
  {
   "cell_type": "code",
   "execution_count": 4,
   "id": "eee5c286",
   "metadata": {},
   "outputs": [],
   "source": [
    "dict_n = {'resp': 8000, 'sub': 8000, 'mail_acq': 2800, 'mail_house':400, 'non_mail': 1000}\n",
    "additional_n_in_mail = 100\n",
    "sampled_dfs = {}\n",
    "universal_cols = ['prospect_type', 'accountnum', 'campaignid', 'lead_key', 'leadid',\n",
    "       'duns', 'mail_date', 'company', 'address', 'city', 'state', 'zip',\n",
    "       'flg_type', 'flg_type_grp']\n",
    "sub_cols = ['Best_CreditReviewId', 'CreatedDate', 'credit_review_ags']"
   ]
  },
  {
   "cell_type": "markdown",
   "id": "39a45af8",
   "metadata": {},
   "source": [
    "# Collect AGS from the submissions after 2020"
   ]
  },
  {
   "cell_type": "code",
   "execution_count": 5,
   "id": "dbaf7838",
   "metadata": {},
   "outputs": [],
   "source": [
    "sql = \"\"\"\n",
    "with dat as\n",
    "(\n",
    "select l.id as leadid, l.DUNS_Number__c as duns, la.Lead_AGS, la.Lead_AGS_Tier, credit_review_ags, crc.CreatedDate, o.Best_CreditReviewId\n",
    "from Salesforce_Repl.dbo.lead l\n",
    "\tINNER JOIN EDW.dbo.Lead_AGS la on la.leadid = l.id\n",
    "\tINNER JOIN [Analytics_DWH].[dbo].[Opportunity_All_VW] AS [o] ON o.AccountId = l.ConvertedAccountId\n",
    "\tINNER JOIN [Salesforce_Repl].[dbo].[Credit_Review__c] AS [crc] ON [crc].[Id] = o.Best_CreditReviewId\n",
    "where len(DUNS_Number__c)=9 and year(crc.createdDate) >= 2020 and credit_review_ags > 0 \n",
    ")\n",
    "select leadid\n",
    "\t, CreatedDate\n",
    "\t, credit_review_ags\n",
    "\t, Best_CreditReviewId\n",
    "from dat\n",
    "\"\"\"\n",
    "\n",
    "subs = pd.read_sql(sql, engine_sql)"
   ]
  },
  {
   "cell_type": "code",
   "execution_count": 6,
   "id": "26a19571",
   "metadata": {},
   "outputs": [
    {
     "data": {
      "text/plain": [
       "(33986, 4)"
      ]
     },
     "execution_count": 6,
     "metadata": {},
     "output_type": "execute_result"
    }
   ],
   "source": [
    "subs.shape"
   ]
  },
  {
   "cell_type": "markdown",
   "id": "7e3f7fb1",
   "metadata": {},
   "source": [
    "# Response+ Population"
   ]
  },
  {
   "cell_type": "code",
   "execution_count": 7,
   "id": "8f61494b",
   "metadata": {},
   "outputs": [
    {
     "name": "stdout",
     "output_type": "stream",
     "text": [
      "Initiating login request with your identity provider. A browser window should have opened for you to complete the login. If you can't see it, check existing browser windows, or your OS settings. Press CTRL+C to abort and try again...\n",
      "Going to open: https://nationalfunding.okta.com/app/snowflake/exk8t3c21w5IwCyzl5d7/sso/saml?SAMLRequest=jZJbc9owEIX%2Fikd9xrLMJUGDyRBopu7kQsFhOrwJWwYNsuRq5Rj66yvb0EkfkumbLudI3%2B7Zyd2pkN4bNyC0ihDxA%2BRxlepMqH2EXpOH3i3ywDKVMakVj9CZA7qbToAVsqSzyh7Uiv%2BqOFjPPaSAthcRqoyimoEAqljBgdqUrmdPjzT0A1oabXWqJXpn%2BdzBALixjvBqyUA4vIO1JcW4rmu%2F7vva7HEYBAEOxtipGsmXq%2F7kavpAT3AwaPRO4eQP2qS8LStC1lQcecsL7b1QXVM%2BA911IqDfkmTZW76sE%2BTNrvBzraAquFlz8yZS%2Frp67JDAMYlsNxyPCfFB6TqX7MhTXZSVdY%2F5boVznmGp98J1IF5EqDyK7Of9xsyfDuP9Ni6BhduSHFe2yBXfZefk63dG8pfR8sdi01%2FdpsjbXCMOm4hjgIrHqgnWuqMg7PdI0CPjJAzpYETJjT8YkS3yFi5YoZhtnVfWbs9kXrXF%2BvpoWQvJyhL%2F5cf8dLy1%2FTQk9TCu5%2BffcpjdYACNm7xRN0K0BTHT%2F2zDBL83XYbw2aUQL5ZaivTc5Fcw%2B3FIxCftich6eSulvGBCzrLMcAAXlpS6nhvOLL8MAJ52v%2F477dM%2F&RelayState=51975 to authenticate...\n"
     ]
    }
   ],
   "source": [
    "sql = \"\"\"\n",
    "select rpt.prospect_type\n",
    "        , rpt.account_number as accountnum\n",
    "        , rpt.source_campaign_id as campaignid\n",
    "        , l.lead_key as lead_key\n",
    "        , l.source_lead_id as leadid\n",
    "        , coalesce(ar.\"Duns Number\", l.duns_number) as duns\n",
    "        , to_date(year(rpt.campaignenddate)||'-'||lpad(month(rpt.campaignenddate),2,'0')||'-01') as mail_date\n",
    "        \n",
    "        , coalesce(ar.biz, sfl.company) as company\n",
    "        , coalesce(ar.add, sfl.street) as address\n",
    "        , coalesce(ar.city, sfl.city) as city\n",
    "        , coalesce(ar.st, sfl.state) as state\n",
    "        , coalesce(ar.zip, sfl.postalcode) as zip\n",
    "        , case when rpt.funding_date is not null then '1_fund'\n",
    "            when rpt.approved_date is not null then '2_appr'\n",
    "            when rpt.credit_sub_date is not null then '3_sub'\n",
    "            when rpt.is_qualified then '4_qual'\n",
    "            when rpt.response_date is not null then '5_resp' \n",
    "            end as flg_type\n",
    "        , case when rpt.funding_date is not null or rpt.approved_date is not null or rpt.credit_sub_date is not null then 'sub'\n",
    "            when rpt.is_qualified or rpt.response_date is not null then 'resp' \n",
    "            end as flg_type_grp\n",
    "        , row_number() over (partition by coalesce(ar.\"Duns Number\", l.duns_number) order by l.lead_key) as r\n",
    "from datawarehouse.marketing.mart_acquisition_performance_report rpt\n",
    "    left join datawarehouse.core.response_all resp\n",
    "    on rpt.response_key = resp.response_key\n",
    "    left join datawarehouse.core.lead l\n",
    "    on resp.lead_key=l.lead_key\n",
    "    \n",
    "    left join dnb.acquisitionmail.snapshot_acqmailfinal_archive ar\n",
    "    on ltrim(rtrim(ar.accountnum)) = rpt.account_number and ltrim(rtrim(ar.campaignid)) = rpt.source_campaign_id\n",
    "    left join sourcedata.salesforcenf_marketing.lead sfl\n",
    "    on sfl.id = l.source_lead_id\n",
    "\n",
    "where campaignenddate >= '2022-01-01' \n",
    "    and campaignenddate < '2023-10-01' \n",
    "    and rpt.brand = 'National Funding'\n",
    "    and rpt.response_date is not null\n",
    "\"\"\"\n",
    "resp_df = pd.read_sql(sql, engine)\n",
    "\n",
    "# only pick the ones with duns number\n",
    "resp_duns = resp_df[(resp_df['r']==1)&(resp_df['duns'].str.len()==9)].copy()"
   ]
  },
  {
   "cell_type": "code",
   "execution_count": 8,
   "id": "52990921",
   "metadata": {},
   "outputs": [
    {
     "data": {
      "text/html": [
       "<div>\n",
       "<style scoped>\n",
       "    .dataframe tbody tr th:only-of-type {\n",
       "        vertical-align: middle;\n",
       "    }\n",
       "\n",
       "    .dataframe tbody tr th {\n",
       "        vertical-align: top;\n",
       "    }\n",
       "\n",
       "    .dataframe thead tr th {\n",
       "        text-align: left;\n",
       "    }\n",
       "\n",
       "    .dataframe thead tr:last-of-type th {\n",
       "        text-align: right;\n",
       "    }\n",
       "</style>\n",
       "<table border=\"1\" class=\"dataframe\">\n",
       "  <thead>\n",
       "    <tr>\n",
       "      <th></th>\n",
       "      <th></th>\n",
       "      <th colspan=\"2\" halign=\"left\">duns</th>\n",
       "    </tr>\n",
       "    <tr>\n",
       "      <th></th>\n",
       "      <th></th>\n",
       "      <th>count</th>\n",
       "      <th>nunique</th>\n",
       "    </tr>\n",
       "    <tr>\n",
       "      <th>prospect_type</th>\n",
       "      <th>flg_type</th>\n",
       "      <th></th>\n",
       "      <th></th>\n",
       "    </tr>\n",
       "  </thead>\n",
       "  <tbody>\n",
       "    <tr>\n",
       "      <th rowspan=\"5\" valign=\"top\">Acquisition</th>\n",
       "      <th>1_fund</th>\n",
       "      <td>1446</td>\n",
       "      <td>1446</td>\n",
       "    </tr>\n",
       "    <tr>\n",
       "      <th>2_appr</th>\n",
       "      <td>4166</td>\n",
       "      <td>4166</td>\n",
       "    </tr>\n",
       "    <tr>\n",
       "      <th>3_sub</th>\n",
       "      <td>4760</td>\n",
       "      <td>4760</td>\n",
       "    </tr>\n",
       "    <tr>\n",
       "      <th>4_qual</th>\n",
       "      <td>42399</td>\n",
       "      <td>42399</td>\n",
       "    </tr>\n",
       "    <tr>\n",
       "      <th>5_resp</th>\n",
       "      <td>126987</td>\n",
       "      <td>126987</td>\n",
       "    </tr>\n",
       "    <tr>\n",
       "      <th rowspan=\"5\" valign=\"top\">House</th>\n",
       "      <th>1_fund</th>\n",
       "      <td>49</td>\n",
       "      <td>49</td>\n",
       "    </tr>\n",
       "    <tr>\n",
       "      <th>2_appr</th>\n",
       "      <td>151</td>\n",
       "      <td>151</td>\n",
       "    </tr>\n",
       "    <tr>\n",
       "      <th>3_sub</th>\n",
       "      <td>156</td>\n",
       "      <td>156</td>\n",
       "    </tr>\n",
       "    <tr>\n",
       "      <th>4_qual</th>\n",
       "      <td>2131</td>\n",
       "      <td>2131</td>\n",
       "    </tr>\n",
       "    <tr>\n",
       "      <th>5_resp</th>\n",
       "      <td>3478</td>\n",
       "      <td>3478</td>\n",
       "    </tr>\n",
       "  </tbody>\n",
       "</table>\n",
       "</div>"
      ],
      "text/plain": [
       "                          duns        \n",
       "                         count nunique\n",
       "prospect_type flg_type                \n",
       "Acquisition   1_fund      1446    1446\n",
       "              2_appr      4166    4166\n",
       "              3_sub       4760    4760\n",
       "              4_qual     42399   42399\n",
       "              5_resp    126987  126987\n",
       "House         1_fund        49      49\n",
       "              2_appr       151     151\n",
       "              3_sub        156     156\n",
       "              4_qual      2131    2131\n",
       "              5_resp      3478    3478"
      ]
     },
     "execution_count": 8,
     "metadata": {},
     "output_type": "execute_result"
    }
   ],
   "source": [
    "resp_duns.groupby(['prospect_type', 'flg_type']).agg({'duns':['count','nunique']})"
   ]
  },
  {
   "cell_type": "code",
   "execution_count": 9,
   "id": "4ceb92ca",
   "metadata": {},
   "outputs": [
    {
     "data": {
      "text/html": [
       "<div>\n",
       "<style scoped>\n",
       "    .dataframe tbody tr th:only-of-type {\n",
       "        vertical-align: middle;\n",
       "    }\n",
       "\n",
       "    .dataframe tbody tr th {\n",
       "        vertical-align: top;\n",
       "    }\n",
       "\n",
       "    .dataframe thead th {\n",
       "        text-align: right;\n",
       "    }\n",
       "</style>\n",
       "<table border=\"1\" class=\"dataframe\">\n",
       "  <thead>\n",
       "    <tr style=\"text-align: right;\">\n",
       "      <th></th>\n",
       "      <th></th>\n",
       "      <th>duns</th>\n",
       "    </tr>\n",
       "    <tr>\n",
       "      <th>prospect_type</th>\n",
       "      <th>flg_type_grp</th>\n",
       "      <th></th>\n",
       "    </tr>\n",
       "  </thead>\n",
       "  <tbody>\n",
       "    <tr>\n",
       "      <th rowspan=\"2\" valign=\"top\">Acquisition</th>\n",
       "      <th>resp</th>\n",
       "      <td>169386</td>\n",
       "    </tr>\n",
       "    <tr>\n",
       "      <th>sub</th>\n",
       "      <td>10372</td>\n",
       "    </tr>\n",
       "    <tr>\n",
       "      <th rowspan=\"2\" valign=\"top\">House</th>\n",
       "      <th>resp</th>\n",
       "      <td>5609</td>\n",
       "    </tr>\n",
       "    <tr>\n",
       "      <th>sub</th>\n",
       "      <td>356</td>\n",
       "    </tr>\n",
       "  </tbody>\n",
       "</table>\n",
       "</div>"
      ],
      "text/plain": [
       "                              duns\n",
       "prospect_type flg_type_grp        \n",
       "Acquisition   resp          169386\n",
       "              sub            10372\n",
       "House         resp            5609\n",
       "              sub              356"
      ]
     },
     "execution_count": 9,
     "metadata": {},
     "output_type": "execute_result"
    }
   ],
   "source": [
    "resp_duns.merge(subs, on=['leadid'], how='left').groupby(['prospect_type', 'flg_type_grp']).agg({'duns':'nunique'})"
   ]
  },
  {
   "cell_type": "code",
   "execution_count": 10,
   "id": "f6940a32",
   "metadata": {},
   "outputs": [
    {
     "data": {
      "text/plain": [
       "(185723, 15)"
      ]
     },
     "execution_count": 10,
     "metadata": {},
     "output_type": "execute_result"
    },
    {
     "data": {
      "text/plain": [
       "185723"
      ]
     },
     "execution_count": 10,
     "metadata": {},
     "output_type": "execute_result"
    }
   ],
   "source": [
    "resp_duns.shape\n",
    "resp_duns['duns'].nunique()"
   ]
  },
  {
   "cell_type": "code",
   "execution_count": 11,
   "id": "3563964e",
   "metadata": {},
   "outputs": [
    {
     "data": {
      "text/plain": [
       "(8000, 15)"
      ]
     },
     "execution_count": 11,
     "metadata": {},
     "output_type": "execute_result"
    },
    {
     "data": {
      "text/plain": [
       "Acquisition    7754\n",
       "House           246\n",
       "Name: prospect_type, dtype: int64"
      ]
     },
     "execution_count": 11,
     "metadata": {},
     "output_type": "execute_result"
    },
    {
     "data": {
      "text/plain": [
       "Acquisition    0.96925\n",
       "House          0.03075\n",
       "Name: prospect_type, dtype: float64"
      ]
     },
     "execution_count": 11,
     "metadata": {},
     "output_type": "execute_result"
    },
    {
     "data": {
      "text/plain": [
       "prospect_type  flg_type\n",
       "Acquisition    4_qual      0.248259\n",
       "               5_resp      0.751741\n",
       "House          4_qual      0.394309\n",
       "               5_resp      0.605691\n",
       "Name: duns, dtype: float64"
      ]
     },
     "execution_count": 11,
     "metadata": {},
     "output_type": "execute_result"
    },
    {
     "data": {
      "text/plain": [
       "(8000, 15)"
      ]
     },
     "execution_count": 11,
     "metadata": {},
     "output_type": "execute_result"
    },
    {
     "data": {
      "text/plain": [
       "Acquisition    7735\n",
       "House           265\n",
       "Name: prospect_type, dtype: int64"
      ]
     },
     "execution_count": 11,
     "metadata": {},
     "output_type": "execute_result"
    },
    {
     "data": {
      "text/plain": [
       "Acquisition    0.966875\n",
       "House          0.033125\n",
       "Name: prospect_type, dtype: float64"
      ]
     },
     "execution_count": 11,
     "metadata": {},
     "output_type": "execute_result"
    },
    {
     "data": {
      "text/plain": [
       "prospect_type  flg_type\n",
       "Acquisition    1_fund      0.140530\n",
       "               2_appr      0.402198\n",
       "               3_sub       0.457272\n",
       "House          1_fund      0.135849\n",
       "               2_appr      0.433962\n",
       "               3_sub       0.430189\n",
       "Name: duns, dtype: float64"
      ]
     },
     "execution_count": 11,
     "metadata": {},
     "output_type": "execute_result"
    }
   ],
   "source": [
    "for t in ['resp', 'sub']:\n",
    "    # sampling\n",
    "    sample_df = resp_duns[resp_duns['flg_type_grp']==t].sort_values(by=['flg_type'])\n",
    "    sample = sample_df.sample(n=dict_n[t], random_state=999)\n",
    "\n",
    "    # checking\n",
    "    sample.shape\n",
    "    sample['prospect_type'].value_counts()\n",
    "    sample['prospect_type'].value_counts(normalize=True)\n",
    "    check_proportion = sample.groupby(['prospect_type', 'flg_type']).agg({'duns':'count'})\n",
    "    check_proportion['duns'].groupby(level=0).apply(lambda x: x/x.sum())\n",
    "\n",
    "    # add credit review date\n",
    "    if t == 'sub':\n",
    "        sample = sample.merge(subs, on=['leadid'], how='left')\n",
    "        sample['credit_month'] =  sample['CreatedDate'].dt.date\n",
    "        sample['mail_date'] = pd.to_datetime(sample['mail_date'],format='%Y-%m-%d').dt.date\n",
    "        sample['diff'] = (sample['credit_month']- sample['mail_date']).dt.days\n",
    "        sample['diff'] = np.where(sample['diff'] >= -45, sample['diff'], np.nan)\n",
    "        sample.sort_values(by=['leadid','diff'], ascending=True, inplace=True)\n",
    "        sample = sample.groupby(['duns']).head(1) # make sure only 1 record per duns\n",
    "\n",
    "        sampled_dfs[t] = sample[universal_cols + sub_cols]\n",
    "\n",
    "    else:\n",
    "        sampled_dfs[t] = sample[universal_cols]"
   ]
  },
  {
   "cell_type": "markdown",
   "id": "2438600b",
   "metadata": {},
   "source": [
    "# mails"
   ]
  },
  {
   "cell_type": "code",
   "execution_count": 14,
   "id": "22512b89",
   "metadata": {},
   "outputs": [
    {
     "name": "stdout",
     "output_type": "stream",
     "text": [
      "Acquisition...\n"
     ]
    },
    {
     "data": {
      "text/plain": [
       "prospect_type    2700\n",
       "accountnum       2700\n",
       "campaignid       2700\n",
       "lead_key            0\n",
       "leadid           2700\n",
       "duns             2700\n",
       "mail_date        2700\n",
       "company          2700\n",
       "address          2700\n",
       "city             2700\n",
       "state            2700\n",
       "zip              2700\n",
       "flg_type         2700\n",
       "flg_type_grp     2700\n",
       "emp              2687\n",
       "tib              2652\n",
       "dtype: int64"
      ]
     },
     "execution_count": 14,
     "metadata": {},
     "output_type": "execute_result"
    },
    {
     "name": "stdout",
     "output_type": "stream",
     "text": [
      "House...\n"
     ]
    },
    {
     "data": {
      "text/plain": [
       "prospect_type    300\n",
       "accountnum       300\n",
       "campaignid       300\n",
       "lead_key           0\n",
       "leadid           300\n",
       "duns             300\n",
       "mail_date        300\n",
       "company          300\n",
       "address          300\n",
       "city             300\n",
       "state            300\n",
       "zip              300\n",
       "flg_type         300\n",
       "flg_type_grp     300\n",
       "emp                0\n",
       "tib                0\n",
       "dtype: int64"
      ]
     },
     "execution_count": 14,
     "metadata": {},
     "output_type": "execute_result"
    },
    {
     "data": {
      "text/plain": [
       "prospect_type    300\n",
       "accountnum       300\n",
       "campaignid       300\n",
       "lead_key           0\n",
       "leadid           300\n",
       "duns             300\n",
       "mail_date        300\n",
       "company          300\n",
       "address          300\n",
       "city             300\n",
       "state            300\n",
       "zip              300\n",
       "flg_type         300\n",
       "flg_type_grp     300\n",
       "emp                0\n",
       "tib                0\n",
       "dtype: int64"
      ]
     },
     "execution_count": 14,
     "metadata": {},
     "output_type": "execute_result"
    }
   ],
   "source": [
    "for ptc in ['Acquisition', 'House']:\n",
    "    print(ptc + '...')\n",
    "\n",
    "    if ptc == 'Acquisition':\n",
    "        n = dict_n['mail_acq']\n",
    "        df_label = 'mail_acq'\n",
    "    else:\n",
    "        n = dict_n['mail_house']\n",
    "        df_label = 'mail_house'\n",
    "\n",
    "    sql  = f\"\"\"\n",
    "    with dat as (\n",
    "        select distinct \n",
    "            Prospect_Type__c \"prospect_type\"\n",
    "            , m.Account_Number__c \"accountnum\"\n",
    "            , m.CampaignId \"campaignid\"\n",
    "            , NULL as lead_key\n",
    "            , m.leadid\n",
    "            , coalesce(ar.\"Duns Number\", sfl.duns_number__c) as duns\n",
    "            , to_date(year(c.enddate)||'-'||lpad(month(c.enddate),2,'0')||'-01') as mail_date    \n",
    "            , coalesce(ar.biz, sfl.company) as company\n",
    "            , coalesce(ar.add, sfl.street) as address\n",
    "            , coalesce(ar.city, sfl.city) as city\n",
    "            , coalesce(ar.st, sfl.state) as state\n",
    "            , coalesce(ar.zip, sfl.postalcode) as zip\n",
    "            ,'6_mail' as flg_type\n",
    "            ,'mail' as flg_type_grp\n",
    "            , case when ar.\"Emp Here\" < 2 then 'emp0_1'\n",
    "                    when ar.\"Emp Here\" < 5 then 'emp2_4'\n",
    "                    when ar.\"Emp Here\" >= 5 then 'emp5' end as emp\n",
    "            , case when DATEDIFF('year', to_date(to_char(ar.\"YEAR\")||'-01-01'), enddate) < 1 then 'TIB0'\n",
    "                    when DATEDIFF('year', to_date(to_char(ar.\"YEAR\")||'-01-01'), enddate) < 6 then 'TIB1_5'\n",
    "                    when DATEDIFF('year', to_date(to_char(ar.\"YEAR\")||'-01-01'), enddate) >= 6 then 'TIB_6' end as TIB\n",
    "        from sourcedata.salesforcenf_marketing.campaignmember m\n",
    "            inner join sourcedata.salesforcenf_marketing.campaign c on m.CampaignId = c.id\n",
    "            left join dnb.acquisitionmail.snapshot_acqmailfinal_archive ar\n",
    "                on ltrim(rtrim(ar.accountnum)) = m.Account_Number__c and ltrim(rtrim(ar.campaignid)) = m.CampaignId\n",
    "            left join sourcedata.salesforcenf_marketing.lead sfl\n",
    "                on sfl.id = m.leadid\n",
    "\n",
    "        where enddate >= '2022-01-01' \n",
    "            and enddate < '2023-10-01' \n",
    "            and c.type = 'Direct Mail'\n",
    "            and c.Prospect_Type__c in ('{ptc}')\n",
    "            and try_to_number(coalesce(ar.\"Duns Number\", sfl.duns_number__c)) is not null\n",
    "        order by m.Account_Number__c\n",
    "    )\n",
    "    select *\n",
    "    from dat SAMPLE row ({n} rows) \n",
    "    \"\"\"\n",
    "    \n",
    "    tot_df = pd.DataFrame({'duns':[1, 1]})\n",
    "    while (tot_df.shape[0] != tot_df['duns'].nunique()):\n",
    "        tot_df = pd.read_sql(sql, engine)\n",
    "\n",
    "        # make sure the duns number in mail population is not in response\n",
    "        tot_df = tot_df[tot_df['duns'].isin(resp_df['duns'])==False].copy() # remove the ones that are already in response\n",
    "        tot_df = tot_df.sample(n=(n-additional_n_in_mail), random_state=999) # generate a correct sample size\n",
    "        sampled_dfs[df_label] = tot_df[universal_cols + ['emp', 'tib']]"
   ]
  },
  {
   "cell_type": "code",
   "execution_count": 16,
   "id": "85b12fbc",
   "metadata": {},
   "outputs": [
    {
     "data": {
      "text/plain": [
       "emp5      1288\n",
       "emp2_4    1061\n",
       "emp0_1     338\n",
       "Name: emp, dtype: int64"
      ]
     },
     "execution_count": 16,
     "metadata": {},
     "output_type": "execute_result"
    }
   ],
   "source": [
    "sampled_dfs['mail_acq']['emp'].value_counts()\n",
    "sampled_dfs['mail_acq']['tib'].value_counts()"
   ]
  },
  {
   "cell_type": "code",
   "execution_count": 18,
   "id": "9d050562",
   "metadata": {},
   "outputs": [
    {
     "data": {
      "text/html": [
       "<div>\n",
       "<style scoped>\n",
       "    .dataframe tbody tr th:only-of-type {\n",
       "        vertical-align: middle;\n",
       "    }\n",
       "\n",
       "    .dataframe tbody tr th {\n",
       "        vertical-align: top;\n",
       "    }\n",
       "\n",
       "    .dataframe thead th {\n",
       "        text-align: right;\n",
       "    }\n",
       "</style>\n",
       "<table border=\"1\" class=\"dataframe\">\n",
       "  <thead>\n",
       "    <tr style=\"text-align: right;\">\n",
       "      <th></th>\n",
       "      <th>prospect_type</th>\n",
       "      <th>accountnum</th>\n",
       "      <th>campaignid</th>\n",
       "      <th>lead_key</th>\n",
       "      <th>leadid</th>\n",
       "      <th>duns</th>\n",
       "      <th>mail_date</th>\n",
       "      <th>company</th>\n",
       "      <th>address</th>\n",
       "      <th>city</th>\n",
       "      <th>state</th>\n",
       "      <th>zip</th>\n",
       "      <th>flg_type</th>\n",
       "      <th>flg_type_grp</th>\n",
       "      <th>emp</th>\n",
       "      <th>tib</th>\n",
       "    </tr>\n",
       "  </thead>\n",
       "  <tbody>\n",
       "    <tr>\n",
       "      <th>325</th>\n",
       "      <td>Acquisition</td>\n",
       "      <td>7996222227281357</td>\n",
       "      <td>7013n000002QZzwAAG</td>\n",
       "      <td>None</td>\n",
       "      <td>00Q3n00001ZP1oOEAT</td>\n",
       "      <td>102501628</td>\n",
       "      <td>2022-03-01</td>\n",
       "      <td>Klyaksa US LLC</td>\n",
       "      <td>1 Chestnut Pl Apt 1010</td>\n",
       "      <td>Quincy</td>\n",
       "      <td>MA</td>\n",
       "      <td>02169</td>\n",
       "      <td>6_mail</td>\n",
       "      <td>mail</td>\n",
       "      <td>emp5</td>\n",
       "      <td>TIB1_5</td>\n",
       "    </tr>\n",
       "    <tr>\n",
       "      <th>359</th>\n",
       "      <td>Acquisition</td>\n",
       "      <td>8226123338680500</td>\n",
       "      <td>7013n000001fVOmAAM</td>\n",
       "      <td>None</td>\n",
       "      <td>00Q3n00001ckL7gEAE</td>\n",
       "      <td>118561378</td>\n",
       "      <td>2023-09-01</td>\n",
       "      <td>H2u Technologies, Inc.</td>\n",
       "      <td>20360 Plummer St</td>\n",
       "      <td>Chatsworth</td>\n",
       "      <td>CA</td>\n",
       "      <td>91311</td>\n",
       "      <td>6_mail</td>\n",
       "      <td>mail</td>\n",
       "      <td>emp5</td>\n",
       "      <td>TIB1_5</td>\n",
       "    </tr>\n",
       "    <tr>\n",
       "      <th>671</th>\n",
       "      <td>Acquisition</td>\n",
       "      <td>8202323334218533</td>\n",
       "      <td>7013n000001fU4zAAE</td>\n",
       "      <td>None</td>\n",
       "      <td>00Q8000001G65d0EAB</td>\n",
       "      <td>058510065</td>\n",
       "      <td>2023-07-01</td>\n",
       "      <td>F C B Trucking LLC</td>\n",
       "      <td>4171 Lomac St</td>\n",
       "      <td>Montgomery</td>\n",
       "      <td>AL</td>\n",
       "      <td>36106</td>\n",
       "      <td>6_mail</td>\n",
       "      <td>mail</td>\n",
       "      <td>emp2_4</td>\n",
       "      <td>TIB_6</td>\n",
       "    </tr>\n",
       "    <tr>\n",
       "      <th>1442</th>\n",
       "      <td>Acquisition</td>\n",
       "      <td>8097122240922128</td>\n",
       "      <td>7013n000001NpyNAAS</td>\n",
       "      <td>None</td>\n",
       "      <td>00Q3n00001cmOkqEAE</td>\n",
       "      <td>118528326</td>\n",
       "      <td>2022-09-01</td>\n",
       "      <td>Lockwood's Garden Center</td>\n",
       "      <td>4484 Clark St</td>\n",
       "      <td>Hamburg</td>\n",
       "      <td>NY</td>\n",
       "      <td>14075</td>\n",
       "      <td>6_mail</td>\n",
       "      <td>mail</td>\n",
       "      <td>emp2_4</td>\n",
       "      <td>TIB0</td>\n",
       "    </tr>\n",
       "    <tr>\n",
       "      <th>2463</th>\n",
       "      <td>Acquisition</td>\n",
       "      <td>8115222245680746</td>\n",
       "      <td>7013n0000019OJlAAM</td>\n",
       "      <td>None</td>\n",
       "      <td>00Q3400001wpBEFEA2</td>\n",
       "      <td>063402008</td>\n",
       "      <td>2022-11-01</td>\n",
       "      <td>Barbour Heating &amp; Air, LLC</td>\n",
       "      <td>634 Cobblestone Ln</td>\n",
       "      <td>Stone Mountain</td>\n",
       "      <td>GA</td>\n",
       "      <td>30087</td>\n",
       "      <td>6_mail</td>\n",
       "      <td>mail</td>\n",
       "      <td>emp5</td>\n",
       "      <td>TIB_6</td>\n",
       "    </tr>\n",
       "  </tbody>\n",
       "</table>\n",
       "</div>"
      ],
      "text/plain": [
       "     prospect_type        accountnum          campaignid lead_key  \\\n",
       "325    Acquisition  7996222227281357  7013n000002QZzwAAG     None   \n",
       "359    Acquisition  8226123338680500  7013n000001fVOmAAM     None   \n",
       "671    Acquisition  8202323334218533  7013n000001fU4zAAE     None   \n",
       "1442   Acquisition  8097122240922128  7013n000001NpyNAAS     None   \n",
       "2463   Acquisition  8115222245680746  7013n0000019OJlAAM     None   \n",
       "\n",
       "                  leadid       duns   mail_date                     company  \\\n",
       "325   00Q3n00001ZP1oOEAT  102501628  2022-03-01              Klyaksa US LLC   \n",
       "359   00Q3n00001ckL7gEAE  118561378  2023-09-01      H2u Technologies, Inc.   \n",
       "671   00Q8000001G65d0EAB  058510065  2023-07-01          F C B Trucking LLC   \n",
       "1442  00Q3n00001cmOkqEAE  118528326  2022-09-01    Lockwood's Garden Center   \n",
       "2463  00Q3400001wpBEFEA2  063402008  2022-11-01  Barbour Heating & Air, LLC   \n",
       "\n",
       "                     address            city state    zip flg_type  \\\n",
       "325   1 Chestnut Pl Apt 1010          Quincy    MA  02169   6_mail   \n",
       "359         20360 Plummer St      Chatsworth    CA  91311   6_mail   \n",
       "671           4171 Lomac St       Montgomery    AL  36106   6_mail   \n",
       "1442           4484 Clark St         Hamburg    NY  14075   6_mail   \n",
       "2463      634 Cobblestone Ln  Stone Mountain    GA  30087   6_mail   \n",
       "\n",
       "     flg_type_grp     emp     tib  \n",
       "325          mail    emp5  TIB1_5  \n",
       "359          mail    emp5  TIB1_5  \n",
       "671          mail  emp2_4   TIB_6  \n",
       "1442         mail  emp2_4    TIB0  \n",
       "2463         mail    emp5   TIB_6  "
      ]
     },
     "execution_count": 18,
     "metadata": {},
     "output_type": "execute_result"
    }
   ],
   "source": [
    "sampled_dfs['mail_acq'].head()"
   ]
  },
  {
   "cell_type": "markdown",
   "id": "8336f751",
   "metadata": {},
   "source": [
    "# Non-mails"
   ]
  },
  {
   "cell_type": "code",
   "execution_count": 81,
   "id": "a656d4fb",
   "metadata": {},
   "outputs": [
    {
     "data": {
      "text/plain": [
       "36629"
      ]
     },
     "execution_count": 81,
     "metadata": {},
     "output_type": "execute_result"
    },
    {
     "data": {
      "text/plain": [
       "(1000, 14)"
      ]
     },
     "execution_count": 81,
     "metadata": {},
     "output_type": "execute_result"
    },
    {
     "data": {
      "text/plain": [
       "prospect_type    1000\n",
       "accountnum          0\n",
       "campaignid       1000\n",
       "lead_key            0\n",
       "leadid              0\n",
       "duns             1000\n",
       "mail_date        1000\n",
       "company          1000\n",
       "address          1000\n",
       "city             1000\n",
       "state            1000\n",
       "zip              1000\n",
       "flg_type         1000\n",
       "flg_type_grp     1000\n",
       "dtype: int64"
      ]
     },
     "execution_count": 81,
     "metadata": {},
     "output_type": "execute_result"
    }
   ],
   "source": [
    "sql  = f\"\"\"\n",
    "select *\n",
    "from \n",
    "(\n",
    "    select \n",
    "    'Acquisition' as prospect_type,\n",
    "    NULL as accountnum,\n",
    "    assg.campaign_id as campaignid,\n",
    "    NULL as lead_key,\n",
    "    NULL as leadid,\n",
    "    ex.duns,\n",
    "    DATEADD('month', 2, to_date(ex.run_date, 'YYYYMMDD')) as mail_date,\n",
    "    ex.business_name as company, \n",
    "    case when ex.address_2 is null then ex.address \n",
    "        else ex.address||' '||ex.address_2 end as address, \n",
    "    ex.city, \n",
    "    ex.state, \n",
    "    ex.zip_code as zip,\n",
    "    'non_mail' as flg_type,\n",
    "    'non_mail' as flg_type_grp,\n",
    "    row_number() over (partition by ex.duns order by ex.run_date) rnk\n",
    "    from dnb.acquisitionmail.acq_mail_license_export ex\n",
    "        left join dnb.acquisitionmail.acq_mail_campaign_append app\n",
    "        on ex.duns=app.duns and app.brand_code='nf' and ex.run_date = app.run_date\n",
    "        inner join dnb.acquisitionmail.acq_mail_campaign_assignment assg\n",
    "        on ex.duns=assg.duns and assg.brand_code='nf' and ex.run_date = assg.run_date\n",
    "        \n",
    "    where ex.nf_list_name is not null \n",
    "        and ex.run_date >= '20221101'\n",
    "        and ex.run_date <= '20230701'\n",
    "        and app.duns is null\n",
    "        and length(ex.address) > 1\n",
    ")\n",
    "where rnk = 1\n",
    "\"\"\"\n",
    "non_mail = pd.read_sql(sql, engine)\n",
    "non_mail['duns'].count()\n",
    "non_mail_df = non_mail.sort_values(by=['state'])\n",
    "sampled_dfs['non_mail'] = non_mail_df[universal_cols].sample(n=dict_n['non_mail'], random_state=997)\n",
    "sampled_dfs['non_mail'].shape\n",
    "sampled_dfs['non_mail'].count()"
   ]
  },
  {
   "cell_type": "code",
   "execution_count": 82,
   "id": "b946ce56",
   "metadata": {},
   "outputs": [
    {
     "data": {
      "text/html": [
       "<div>\n",
       "<style scoped>\n",
       "    .dataframe tbody tr th:only-of-type {\n",
       "        vertical-align: middle;\n",
       "    }\n",
       "\n",
       "    .dataframe tbody tr th {\n",
       "        vertical-align: top;\n",
       "    }\n",
       "\n",
       "    .dataframe thead th {\n",
       "        text-align: right;\n",
       "    }\n",
       "</style>\n",
       "<table border=\"1\" class=\"dataframe\">\n",
       "  <thead>\n",
       "    <tr style=\"text-align: right;\">\n",
       "      <th></th>\n",
       "      <th>prospect_type</th>\n",
       "      <th>accountnum</th>\n",
       "      <th>campaignid</th>\n",
       "      <th>lead_key</th>\n",
       "      <th>leadid</th>\n",
       "      <th>duns</th>\n",
       "      <th>mail_date</th>\n",
       "      <th>company</th>\n",
       "      <th>address</th>\n",
       "      <th>city</th>\n",
       "      <th>state</th>\n",
       "      <th>zip</th>\n",
       "      <th>flg_type</th>\n",
       "      <th>flg_type_grp</th>\n",
       "    </tr>\n",
       "  </thead>\n",
       "  <tbody>\n",
       "  </tbody>\n",
       "</table>\n",
       "</div>"
      ],
      "text/plain": [
       "Empty DataFrame\n",
       "Columns: [prospect_type, accountnum, campaignid, lead_key, leadid, duns, mail_date, company, address, city, state, zip, flg_type, flg_type_grp]\n",
       "Index: []"
      ]
     },
     "execution_count": 82,
     "metadata": {},
     "output_type": "execute_result"
    }
   ],
   "source": [
    "sampled_dfs['non_mail'][sampled_dfs['non_mail']['address'].isna()]"
   ]
  },
  {
   "cell_type": "markdown",
   "id": "b748e030",
   "metadata": {},
   "source": [
    "# Combine all sampled dataframes"
   ]
  },
  {
   "cell_type": "code",
   "execution_count": 83,
   "id": "c59f99c2",
   "metadata": {},
   "outputs": [
    {
     "data": {
      "text/html": [
       "<div>\n",
       "<style scoped>\n",
       "    .dataframe tbody tr th:only-of-type {\n",
       "        vertical-align: middle;\n",
       "    }\n",
       "\n",
       "    .dataframe tbody tr th {\n",
       "        vertical-align: top;\n",
       "    }\n",
       "\n",
       "    .dataframe thead th {\n",
       "        text-align: right;\n",
       "    }\n",
       "</style>\n",
       "<table border=\"1\" class=\"dataframe\">\n",
       "  <thead>\n",
       "    <tr style=\"text-align: right;\">\n",
       "      <th></th>\n",
       "      <th>duns</th>\n",
       "      <th>prospect_type</th>\n",
       "      <th>flg_type</th>\n",
       "      <th>flg_type_grp</th>\n",
       "      <th>accountnum</th>\n",
       "      <th>campaignid</th>\n",
       "    </tr>\n",
       "  </thead>\n",
       "  <tbody>\n",
       "  </tbody>\n",
       "</table>\n",
       "</div>"
      ],
      "text/plain": [
       "Empty DataFrame\n",
       "Columns: [duns, prospect_type, flg_type, flg_type_grp, accountnum, campaignid]\n",
       "Index: []"
      ]
     },
     "execution_count": 83,
     "metadata": {},
     "output_type": "execute_result"
    }
   ],
   "source": [
    "sample_final = pd.DataFrame()\n",
    "for key in sampled_dfs.keys():\n",
    "    sample_final = pd.concat([sample_final, sampled_dfs[key]], axis=0, ignore_index=True)\n",
    "\n",
    "# create unique id\n",
    "sample_final['unique_id'] = (sample_final.index).astype(str).str.zfill(5)\n",
    "sample_final['run_date'] = sample_final['mail_date']+ relativedelta(months=-2)\n",
    "sample_final['run_date'] = sample_final['run_date'].astype(str)\n",
    "sample_final['mail_date'] = sample_final['mail_date'].astype(str)\n",
    "sample_final.drop(columns=['CreatedDate'], inplace=True)\n",
    "sample_final.columns = sample_final.columns.str.lower()\n",
    "# check if we have duplicate duns number\n",
    "test = sample_final.groupby(['duns'])['prospect_type'].count()\n",
    "sample_final[sample_final['duns'].isin(test[test >1].index)][['duns','prospect_type','flg_type','flg_type_grp','accountnum','campaignid']].sort_values(by=['duns'])"
   ]
  },
  {
   "cell_type": "code",
   "execution_count": 84,
   "id": "691b7663",
   "metadata": {},
   "outputs": [
    {
     "data": {
      "text/html": [
       "<div>\n",
       "<style scoped>\n",
       "    .dataframe tbody tr th:only-of-type {\n",
       "        vertical-align: middle;\n",
       "    }\n",
       "\n",
       "    .dataframe tbody tr th {\n",
       "        vertical-align: top;\n",
       "    }\n",
       "\n",
       "    .dataframe thead th {\n",
       "        text-align: right;\n",
       "    }\n",
       "</style>\n",
       "<table border=\"1\" class=\"dataframe\">\n",
       "  <thead>\n",
       "    <tr style=\"text-align: right;\">\n",
       "      <th></th>\n",
       "      <th>prospect_type</th>\n",
       "      <th>accountnum</th>\n",
       "      <th>campaignid</th>\n",
       "      <th>lead_key</th>\n",
       "      <th>leadid</th>\n",
       "      <th>duns</th>\n",
       "      <th>mail_date</th>\n",
       "      <th>company</th>\n",
       "      <th>address</th>\n",
       "      <th>city</th>\n",
       "      <th>state</th>\n",
       "      <th>zip</th>\n",
       "      <th>flg_type</th>\n",
       "      <th>flg_type_grp</th>\n",
       "      <th>best_creditreviewid</th>\n",
       "      <th>credit_review_ags</th>\n",
       "      <th>emp</th>\n",
       "      <th>tib</th>\n",
       "      <th>unique_id</th>\n",
       "      <th>run_date</th>\n",
       "    </tr>\n",
       "  </thead>\n",
       "  <tbody>\n",
       "    <tr>\n",
       "      <th>0</th>\n",
       "      <td>Acquisition</td>\n",
       "      <td>8157123322193958</td>\n",
       "      <td>7013n0000019RJLAA2</td>\n",
       "      <td>384ad74ce9ae65cdfd49b798ac3f6b33</td>\n",
       "      <td>00Q3n00001dpCX2EAM</td>\n",
       "      <td>087131029</td>\n",
       "      <td>2023-03-01</td>\n",
       "      <td>Loyal Vending &amp; General Services LLC</td>\n",
       "      <td>12365 SW 255th Ter</td>\n",
       "      <td>Homestead</td>\n",
       "      <td>FL</td>\n",
       "      <td>33032</td>\n",
       "      <td>4_qual</td>\n",
       "      <td>resp</td>\n",
       "      <td>NaN</td>\n",
       "      <td>NaN</td>\n",
       "      <td>NaN</td>\n",
       "      <td>NaN</td>\n",
       "      <td>00000</td>\n",
       "      <td>2023-01-01</td>\n",
       "    </tr>\n",
       "    <tr>\n",
       "      <th>1</th>\n",
       "      <td>Acquisition</td>\n",
       "      <td>8185123330938760</td>\n",
       "      <td>7013n0000016DZJAA2</td>\n",
       "      <td>30807d82bedce32d8f7a9912c9a5b71f</td>\n",
       "      <td>00Q3400001p9JaMEAU</td>\n",
       "      <td>080291058</td>\n",
       "      <td>2023-06-01</td>\n",
       "      <td>Trust Multiple Services LLC</td>\n",
       "      <td>3427 Malaga Way</td>\n",
       "      <td>Naples</td>\n",
       "      <td>FL</td>\n",
       "      <td>34105</td>\n",
       "      <td>5_resp</td>\n",
       "      <td>resp</td>\n",
       "      <td>NaN</td>\n",
       "      <td>NaN</td>\n",
       "      <td>NaN</td>\n",
       "      <td>NaN</td>\n",
       "      <td>00001</td>\n",
       "      <td>2023-04-01</td>\n",
       "    </tr>\n",
       "    <tr>\n",
       "      <th>2</th>\n",
       "      <td>Acquisition</td>\n",
       "      <td>8085522237408421</td>\n",
       "      <td>7013n000002MNT4AAO</td>\n",
       "      <td>278d13f38b5131dfbdc0de4fbc937ae0</td>\n",
       "      <td>00Q3n00001cm0gUEAQ</td>\n",
       "      <td>052871222</td>\n",
       "      <td>2022-08-01</td>\n",
       "      <td>Legacy Logistics 365 LLC</td>\n",
       "      <td>9478 Garfield Cir</td>\n",
       "      <td>Shreveport</td>\n",
       "      <td>LA</td>\n",
       "      <td>71118</td>\n",
       "      <td>5_resp</td>\n",
       "      <td>resp</td>\n",
       "      <td>NaN</td>\n",
       "      <td>NaN</td>\n",
       "      <td>NaN</td>\n",
       "      <td>NaN</td>\n",
       "      <td>00002</td>\n",
       "      <td>2022-06-01</td>\n",
       "    </tr>\n",
       "    <tr>\n",
       "      <th>3</th>\n",
       "      <td>Acquisition</td>\n",
       "      <td>8136422311705501</td>\n",
       "      <td>7013n0000019PqbAAE</td>\n",
       "      <td>9be8515d0d6925e920fb072606b28e00</td>\n",
       "      <td>00Q3n00001b1Y5qEAE</td>\n",
       "      <td>117625838</td>\n",
       "      <td>2023-01-01</td>\n",
       "      <td>Black Girls Build, LLC</td>\n",
       "      <td>312 Bucknell Cir</td>\n",
       "      <td>Waldorf</td>\n",
       "      <td>MD</td>\n",
       "      <td>20602</td>\n",
       "      <td>5_resp</td>\n",
       "      <td>resp</td>\n",
       "      <td>NaN</td>\n",
       "      <td>NaN</td>\n",
       "      <td>NaN</td>\n",
       "      <td>NaN</td>\n",
       "      <td>00003</td>\n",
       "      <td>2022-11-01</td>\n",
       "    </tr>\n",
       "    <tr>\n",
       "      <th>4</th>\n",
       "      <td>Acquisition</td>\n",
       "      <td>7973122225655270</td>\n",
       "      <td>7013n000002QYUPAA4</td>\n",
       "      <td>24c67add0f1d58ccfa7d90a52e9702cc</td>\n",
       "      <td>00Q3n00001Z5bsoEAB</td>\n",
       "      <td>128882772</td>\n",
       "      <td>2022-02-01</td>\n",
       "      <td>Bland Transportation LLC</td>\n",
       "      <td>2741 N 20th St</td>\n",
       "      <td>Philadelphia</td>\n",
       "      <td>PA</td>\n",
       "      <td>19132</td>\n",
       "      <td>5_resp</td>\n",
       "      <td>resp</td>\n",
       "      <td>NaN</td>\n",
       "      <td>NaN</td>\n",
       "      <td>NaN</td>\n",
       "      <td>NaN</td>\n",
       "      <td>00004</td>\n",
       "      <td>2021-12-01</td>\n",
       "    </tr>\n",
       "  </tbody>\n",
       "</table>\n",
       "</div>"
      ],
      "text/plain": [
       "  prospect_type        accountnum          campaignid  \\\n",
       "0   Acquisition  8157123322193958  7013n0000019RJLAA2   \n",
       "1   Acquisition  8185123330938760  7013n0000016DZJAA2   \n",
       "2   Acquisition  8085522237408421  7013n000002MNT4AAO   \n",
       "3   Acquisition  8136422311705501  7013n0000019PqbAAE   \n",
       "4   Acquisition  7973122225655270  7013n000002QYUPAA4   \n",
       "\n",
       "                           lead_key              leadid       duns  \\\n",
       "0  384ad74ce9ae65cdfd49b798ac3f6b33  00Q3n00001dpCX2EAM  087131029   \n",
       "1  30807d82bedce32d8f7a9912c9a5b71f  00Q3400001p9JaMEAU  080291058   \n",
       "2  278d13f38b5131dfbdc0de4fbc937ae0  00Q3n00001cm0gUEAQ  052871222   \n",
       "3  9be8515d0d6925e920fb072606b28e00  00Q3n00001b1Y5qEAE  117625838   \n",
       "4  24c67add0f1d58ccfa7d90a52e9702cc  00Q3n00001Z5bsoEAB  128882772   \n",
       "\n",
       "    mail_date                               company              address  \\\n",
       "0  2023-03-01  Loyal Vending & General Services LLC  12365 SW 255th Ter    \n",
       "1  2023-06-01           Trust Multiple Services LLC      3427 Malaga Way   \n",
       "2  2022-08-01              Legacy Logistics 365 LLC    9478 Garfield Cir   \n",
       "3  2023-01-01                Black Girls Build, LLC    312 Bucknell Cir    \n",
       "4  2022-02-01              Bland Transportation LLC       2741 N 20th St   \n",
       "\n",
       "           city state    zip flg_type flg_type_grp best_creditreviewid  \\\n",
       "0     Homestead    FL  33032   4_qual         resp                 NaN   \n",
       "1        Naples    FL  34105   5_resp         resp                 NaN   \n",
       "2    Shreveport    LA  71118   5_resp         resp                 NaN   \n",
       "3       Waldorf    MD  20602   5_resp         resp                 NaN   \n",
       "4  Philadelphia    PA  19132   5_resp         resp                 NaN   \n",
       "\n",
       "   credit_review_ags  emp  tib unique_id    run_date  \n",
       "0                NaN  NaN  NaN     00000  2023-01-01  \n",
       "1                NaN  NaN  NaN     00001  2023-04-01  \n",
       "2                NaN  NaN  NaN     00002  2022-06-01  \n",
       "3                NaN  NaN  NaN     00003  2022-11-01  \n",
       "4                NaN  NaN  NaN     00004  2021-12-01  "
      ]
     },
     "execution_count": 84,
     "metadata": {},
     "output_type": "execute_result"
    }
   ],
   "source": [
    "sample_final.head()"
   ]
  },
  {
   "cell_type": "markdown",
   "id": "4ad5e085",
   "metadata": {},
   "source": [
    "# Saved As Pickcle File"
   ]
  },
  {
   "cell_type": "code",
   "execution_count": 85,
   "id": "b8420035",
   "metadata": {},
   "outputs": [],
   "source": [
    "sample_final.to_csv('vendor_test_data_full.csv', index=False, header=True)"
   ]
  },
  {
   "cell_type": "code",
   "execution_count": 98,
   "id": "231604e8",
   "metadata": {},
   "outputs": [
    {
     "name": "stdout",
     "output_type": "stream",
     "text": [
      "Initiating login request with your identity provider. A browser window should have opened for you to complete the login. If you can't see it, check existing browser windows, or your OS settings. Press CTRL+C to abort and try again...\n",
      "Going to open: https://nationalfunding.okta.com/app/snowflake/exk8t3c21w5IwCyzl5d7/sso/saml?SAMLRequest=jZJLc9owFIX%2Fikdd25JNmIAGk6EQWk8TwsNkptkJSyYqsuRKMob8%2Bso2dNJFMt3pcY703Xvu6O5UCO%2FItOFKxiAMEPCYzBTlch%2BDbTr3B8AzlkhKhJIsBmdmwN14ZEghSjyp7Ktcs98VM9ZzD0mD24sYVFpiRQw3WJKCGWwzvJk8PuAoQLjUyqpMCfDO8rmDGMO0dYRXCzXc4b1aW2II67oO6l6g9B5GCCGIhtCpGsmXq%2F7kavpAH0J00%2BidwsnnSmesLSsGVlcMeMsL7Vcuu6Z8BrrrRAZ%2FT9Olv3zapMCbXOGnSpqqYHrD9JFnbLt%2B6JCMY%2BJ01x8OwzAwUtW5IAeWqaKsrHsscCuYMwqF2nPXgWQWg%2FLA6bdFuFi%2F5I%2Bre4pufpKZ2Pzi6fQUrjbHfB7%2BmB6ftuQwuH9OdqsMeM%2FXiKMm4sSYiiWyCda6IxT1%2FBD5US%2BNIty%2Fxf1BMOihF%2BDNXLBcEts6r6zdnoi8aosN1MGSFpKUJfzLD9npMLC9LArrflJPz2%2BiT2%2BhMQo2eYNuhHALosf%2F2YYRfG%2B6DOHCpZDMlkrw7NzkVxD7cUhhELYnnPp5K8WsIFxMKNXMGBeWEKqeakYsuwwAHHe%2F%2Fjvt4z8%3D&RelayState=50798 to authenticate...\n"
     ]
    },
    {
     "data": {
      "text/plain": [
       "20000"
      ]
     },
     "execution_count": 98,
     "metadata": {},
     "output_type": "execute_result"
    }
   ],
   "source": [
    "sample_final.to_sql('vendor_test_data_full', engine, index=False, if_exists='replace', chunksize=1000)\n"
   ]
  },
  {
   "cell_type": "markdown",
   "id": "a7f90dca",
   "metadata": {},
   "source": [
    "# vendor version"
   ]
  },
  {
   "cell_type": "code",
   "execution_count": 87,
   "id": "fe130dcf",
   "metadata": {},
   "outputs": [],
   "source": [
    "cols_2_vendor = ['unique_id', 'run_date', 'company', 'address', 'city', 'state', 'zip']\n",
    "sample_final[cols_2_vendor].to_csv('vendor_test_data.csv', index=False, header=True)"
   ]
  },
  {
   "cell_type": "code",
   "execution_count": 89,
   "id": "31f38467",
   "metadata": {},
   "outputs": [
    {
     "data": {
      "text/plain": [
       "unique_id    20000\n",
       "run_date        21\n",
       "company      19987\n",
       "address      19821\n",
       "city          4409\n",
       "state           53\n",
       "zip           8632\n",
       "dtype: int64"
      ]
     },
     "execution_count": 89,
     "metadata": {},
     "output_type": "execute_result"
    }
   ],
   "source": [
    "sample_final[cols_2_vendor].nunique()"
   ]
  }
 ],
 "metadata": {
  "kernelspec": {
   "display_name": "Python 3.10.8 ('playground')",
   "language": "python",
   "name": "python3"
  },
  "language_info": {
   "codemirror_mode": {
    "name": "ipython",
    "version": 3
   },
   "file_extension": ".py",
   "mimetype": "text/x-python",
   "name": "python",
   "nbconvert_exporter": "python",
   "pygments_lexer": "ipython3",
   "version": "3.10.8"
  },
  "vscode": {
   "interpreter": {
    "hash": "c1c31ba158fc815313fc66ec9637c7f03ebf810046916949e4003abb05b327f9"
   }
  }
 },
 "nbformat": 4,
 "nbformat_minor": 5
}
